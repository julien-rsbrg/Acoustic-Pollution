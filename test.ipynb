{
 "cells": [
  {
   "cell_type": "code",
   "execution_count": 2,
   "metadata": {},
   "outputs": [],
   "source": [
    "import numpy"
   ]
  },
  {
   "cell_type": "code",
   "execution_count": 2,
   "metadata": {},
   "outputs": [],
   "source": [
    "def clip(values, vmin, vmax):\n",
    "    values = numpy.where(values >= vmin, values, vmin)\n",
    "    values = numpy.where(values >= vmax, vmax, values)\n",
    "    return values"
   ]
  },
  {
   "cell_type": "code",
   "execution_count": 9,
   "metadata": {},
   "outputs": [
    {
     "name": "stdout",
     "output_type": "stream",
     "text": [
      "[[2 2 2 3 4]\n",
      " [5 5 5 5 5]]\n",
      "[[0 1 2 3 4]\n",
      " [5 6 7 8 9]]\n",
      "45 <class 'numpy.int32'>\n"
     ]
    }
   ],
   "source": [
    "A = numpy.arange(10).reshape((2,5))\n",
    "print(clip(A,2,5))\n",
    "print(A)\n",
    "print(numpy.sum(A),type(numpy.sum(A)))"
   ]
  },
  {
   "cell_type": "code",
   "execution_count": 15,
   "metadata": {},
   "outputs": [
    {
     "name": "stdout",
     "output_type": "stream",
     "text": [
      "(2, 5, 4)\n",
      "[[ 0  1  2  3]\n",
      " [ 4  5  6  7]\n",
      " [ 8  9 10 11]\n",
      " [12 13 14 15]\n",
      " [16 17 18 19]]\n",
      "<numpy.ndenumerate object at 0x00000283B1F7E8F0>\n"
     ]
    }
   ],
   "source": [
    "x = numpy.arange(20).reshape(5, 4)\n",
    "indices = numpy.indices((5, 4))\n",
    "print(indices.shape)\n",
    "print(x)\n",
    "print(numpy.ndenumerate(x))"
   ]
  },
  {
   "cell_type": "code",
   "execution_count": 22,
   "metadata": {},
   "outputs": [
    {
     "name": "stdout",
     "output_type": "stream",
     "text": [
      "[2 2 3 3 3 3 4 4 4 4 2 3 0 1 2 3 0 1 2 3]\n"
     ]
    }
   ],
   "source": [
    "print(numpy.concatenate([numpy.expnumpy.where(x>=10)[0],numpy.where(x>=10)[1]],axis=-1))"
   ]
  },
  {
   "cell_type": "code",
   "execution_count": null,
   "metadata": {},
   "outputs": [],
   "source": []
  }
 ],
 "metadata": {
  "kernelspec": {
   "display_name": "Python 3.10.6 64-bit",
   "language": "python",
   "name": "python3"
  },
  "language_info": {
   "codemirror_mode": {
    "name": "ipython",
    "version": 3
   },
   "file_extension": ".py",
   "mimetype": "text/x-python",
   "name": "python",
   "nbconvert_exporter": "python",
   "pygments_lexer": "ipython3",
   "version": "3.10.6"
  },
  "orig_nbformat": 4,
  "vscode": {
   "interpreter": {
    "hash": "369f2c481f4da34e4445cda3fffd2e751bd1c4d706f27375911949ba6bb62e1c"
   }
  }
 },
 "nbformat": 4,
 "nbformat_minor": 2
}
